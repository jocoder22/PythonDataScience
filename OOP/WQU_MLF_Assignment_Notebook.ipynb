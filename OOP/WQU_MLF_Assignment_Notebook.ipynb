{
 "cells": [
  {
   "cell_type": "markdown",
   "metadata": {},
   "source": [
    "# Peer Review Assignment 1\n",
    "\n",
    "Name: \n",
    "\n",
    "Date: \n"
   ]
  },
  {
   "cell_type": "markdown",
   "metadata": {},
   "source": [
    "## Instructions\n",
    "* Work through the notebook, answer all questions, and do all problems\n",
    "* You are allowed to consult the internet, and discuss on the module forum\n",
    "* Your answers and solutions to the problems should be added to this notebook \n",
    "* Submit your final work as an html file\n",
    "* Note that the solutions to the problems used python version 3.6.4. \n",
    "* Hint: In this assignment you work with a single linear regression problem where you generate data yourself. This means that you have an idea of what the computed solution should look like. \n",
    "\n",
    "## Marking Scheme (Theoretical Questions)\n",
    "* All questions are marked out of 3.\n",
    "* No valid answer: 0 marks\n",
    "* Demonstration of grasp of basic idea: 1 mark\n",
    "* 'Perfect' answer: 3 marks\n",
    "\n",
    "## Marking Scheme (Practical Problems)\n",
    "* All problems are marked out of 5.\n",
    "* No valid answer: 0 marks\n",
    "* Demonstration of grasp of basic idea: 2 mark\n",
    "* Working code: 5 marks\n",
    "---"
   ]
  },
  {
   "cell_type": "markdown",
   "metadata": {},
   "source": [
    "# Regression\n",
    "\n",
    "Let's start with the simplest possible regression problem: Solve the following system of linear equations,\n",
    "\n",
    "$$\n",
    "x = 1.0\\\\\n",
    "x = 0.5\\\\\n",
    "x = 0.7\\\\\n",
    "$$\n",
    "At first glance this does not make sense, how can $x$ take on different values than these? In practice however, this happens all the time. Think of the situation where you measure a quantity multiple times; every time you measure - a slightly different value - just as in the equations above. This is a simple example of an over-determined system.\n",
    "\n",
    "---\n",
    "Answer the following questions (all calculations should be done by hand, written here in latex):"
   ]
  },
  {
   "cell_type": "markdown",
   "metadata": {},
   "source": [
    "### Questions 1:\n",
    "\n",
    "1.1) Write the system above as a *linear* system of equation of the form $Ax = b$. <br> **Answer (3 marks):**"
   ]
  },
  {
   "cell_type": "markdown",
   "metadata": {},
   "source": [
    "The linear system of equation for above system is thus:\n",
    "\n",
    "$$mx + c = 1.0$$\n",
    "$$mx + c = 0.5$$\n",
    "$$mx + c = 0.7$$"
   ]
  },
  {
   "cell_type": "markdown",
   "metadata": {},
   "source": [
    "$$\\begin{bmatrix} 1 & 1 \\\\ 1 & 1 \\\\ 1 & 1 \\end{bmatrix}\n",
    "\\begin{bmatrix} x \\\\ y \\end{bmatrix}\n",
    "=\n",
    "\\begin{bmatrix} 1.0 \\\\ 0.5 \\\\ 0.7 \\end{bmatrix}\n",
    "$$\n",
    "\n",
    "$$Ax = b$$"
   ]
  },
  {
   "cell_type": "markdown",
   "metadata": {},
   "source": [
    "1.2) Write down the normal equations, $A^TA x = A^T b$ for this system.<br>\n",
    "   **Answer (3 marks):**"
   ]
  },
  {
   "cell_type": "markdown",
   "metadata": {},
   "source": []
  },
  {
   "cell_type": "markdown",
   "metadata": {},
   "source": [
    "$$A x =  b$$\n",
    "Pre multiply both sides by $A^T$\n",
    "$$A^TA x = A^T b$$\n",
    "$$Ix = A^T b$$\n",
    "$$I^{-1}Ix = I^{-1}A^T b$$\n",
    "$$I_2x = (A^TA)^{-1}A^T b$$\n",
    "$$x =  (A^TA)^{-1}A^T b$$\n",
    "\n",
    "Thus:\n",
    "\n",
    "$$\n",
    "\\begin{bmatrix} x \\\\ y \\end{bmatrix}\n",
    "=\n",
    "\\begin{bmatrix} 1 & 1 \\\\ 1 & 1 \\\\ 1 & 1 \\end{bmatrix}^T\n",
    "\\begin{bmatrix} 1.0 \\\\ 0.5 \\\\ 0.7 \\end{bmatrix}\n",
    "$$\n"
   ]
  },
  {
   "cell_type": "markdown",
   "metadata": {},
   "source": [
    "1.3) Solve the system of normal equations for the system above. Is there an intuitive interpretation of the solution \n",
    "\n",
    "**Answer (3 marks):**"
   ]
  },
  {
   "cell_type": "markdown",
   "metadata": {},
   "source": []
  },
  {
   "cell_type": "markdown",
   "metadata": {},
   "source": [
    "---\n",
    "Let's now revisit the well-known linear regression problem. We'll first formulate it as the solution of an over-determined system, and then as an optimisation problem. For this example we'll use the computer to solve the problem.\n",
    "\n",
    "We are given data in the form of $(x,y)$ pairs and we know that, given $x$, that $y = mx +c$. Since one can fit a straight line through two points, we only need two pairs to fit a line. But there is a rub, the $y$ values are contaminated by noise (at this point you may want to look at the example below), and it is not possible to find a single line that will pass through all points. We therefore need to find the line that best fits the given values. We'll lead you through the solution.\n",
    "\n",
    "Given $(x_n,y_n),\\;\\;n=1,\\ldots,N$, we need to solve for $m$ and $b$ from\n",
    "$$\n",
    "mx_n +b = y_n, \\;\\;n=1,\\ldots,N.\n",
    "$$"
   ]
  },
  {
   "cell_type": "markdown",
   "metadata": {},
   "source": [
    "---\n",
    "### Questions 2:\n",
    "\n",
    "2.1) Write this as a linear system where the unknowns are $m$ and $b$.<br>\n",
    "   **Answer (3 marks):**"
   ]
  },
  {
   "cell_type": "markdown",
   "metadata": {},
   "source": []
  },
  {
   "cell_type": "markdown",
   "metadata": {},
   "source": [
    "$$2m + b = 9$$\n",
    "$$4m + b = 17$$"
   ]
  },
  {
   "cell_type": "markdown",
   "metadata": {},
   "source": [
    "2.2) Write down, and solve the normal equations for the unknows $m$ and $b$.<br>\n",
    "   **Answer (3 marks):**"
   ]
  },
  {
   "cell_type": "markdown",
   "metadata": {},
   "source": [
    "$$\\begin{bmatrix} 2 & 1 \\\\ 4 & 1  \\end{bmatrix}\n",
    "\\begin{bmatrix} m \\\\ b \\end{bmatrix}\n",
    "=\n",
    "\\begin{bmatrix} 9 \\\\ 17 \\end{bmatrix}\n",
    "$$\n",
    "\n",
    "Thus:\n",
    "<!-- $$\n",
    "\\begin{bmatrix} m \\\\ b \\end{bmatrix}\n",
    "=\n",
    "\\begin{bmatrix} 2 & 1 \\\\ 4 & 1 \\end{bmatrix}^{-1}\n",
    "\\begin{bmatrix} 9 \\\\ 14 \\end{bmatrix}\n",
    "$$ -->\n",
    "\n",
    "\\begin{eqnarray*}\n",
    "\\begin{bmatrix} m \\\\ b \\end{bmatrix}\n",
    "&=&\n",
    "\\begin{bmatrix} 2 & 1 \\\\ 4 & 1 \\end{bmatrix}^{-1}\n",
    "\\begin{bmatrix} 9 \\\\ 17 \\end{bmatrix}\\\\[5mm]\n",
    "&=&\n",
    "\\begin{bmatrix} -0.5 &  0.5 \\\\ 2. & -1. \\end{bmatrix}\n",
    "\\begin{bmatrix} 9 \\\\ 17 \\end{bmatrix}\\\\[5mm]\n",
    "&=&\n",
    "\\begin{bmatrix} 4.0 \\\\ 1.0 \\end{bmatrix}\\\\[5mm]\n",
    "\\end{eqnarray*}\n"
   ]
  },
  {
   "cell_type": "markdown",
   "metadata": {},
   "source": [
    "Thus $m = 4.0$ and $b = 1.0$"
   ]
  },
  {
   "cell_type": "code",
   "execution_count": 71,
   "metadata": {},
   "outputs": [
    {
     "data": {
      "text/plain": [
       "(array([[4.],\n",
       "        [1.]]),\n",
       " array([[-0.5,  0.5],\n",
       "        [ 2. , -1. ]]))"
      ]
     },
     "execution_count": 71,
     "metadata": {},
     "output_type": "execute_result"
    }
   ],
   "source": [
    "A,b = np.array([[2,1],[4,1]]),np.array([[9],[17]]),\n",
    "np.linalg.inv(A).dot(b), np.linalg.inv(A)"
   ]
  },
  {
   "cell_type": "markdown",
   "metadata": {},
   "source": [
    "\\begin{eqnarray*}\n",
    "\\mathit{d}\\mathbf{X}_t  &=& \\mathbf{X}_t\\left(\\sigma\\mathit{d}\\mathbf{W}_t \\hspace{1mm} + \\hspace{1mm}r\\mathit{d}t \\right)\\\\[5mm]\n",
    "%\\mathit{d}\\mathbf{X}_t  &=& \\mathbf{X}_t\\left(\\sigma\\mathit{d}\\mathbf{W}_t \\right)\\\\[5mm]\n",
    "&=& \\mathbf{X}_t\\left(\\sigma\\mathit{d}\\mathbf{\\widehat{W}}_t \\hspace{2mm}+\\hspace{2mm} \\sigma y_t\\mathit{d}t \\hspace{1mm} + \\hspace{1mm}r\\mathit{d}t \\right)\\\\\n",
    "&=& \\mathbf{X}_t\\left(\\sigma\\mathit{d}\\mathbf{\\widehat{W}}_t \\hspace{2mm}+\\hspace{2mm} (\\sigma y_t\\hspace{1mm} + \\hspace{1mm}r)\\mathit{d}t \\right)\\\\[1mm]\n",
    "\\end{eqnarray*}"
   ]
  },
  {
   "cell_type": "markdown",
   "metadata": {},
   "source": [
    "Next we treat this as an optimisation problem. Instead of using the normal equations, we now look for $m$ and $b$ that minimises the mean squared error,\n",
    "$$\n",
    "E = \\frac1N\\sum_{n=1}^N (mx_n + b - y_n)^2.\n",
    "$$"
   ]
  },
  {
   "cell_type": "markdown",
   "metadata": {},
   "source": [
    "---\n",
    "\n",
    "### Questions 3:\n",
    "\n",
    "3.1) Write down the equations $\\frac{\\partial E}{\\partial m} = 0$ and $\\frac{\\partial E}{\\partial b} =0$.<br>\n",
    "   **Answer (3 marks):**"
   ]
  },
  {
   "cell_type": "markdown",
   "metadata": {},
   "source": []
  },
  {
   "cell_type": "markdown",
   "metadata": {},
   "source": [
    "\\begin{eqnarray*}\n",
    "E &=& \\frac1N\\sum_{n=1}^N (mx_n + b - y_n)^2\\\\[5mm]\n",
    "\\frac{\\partial E}{\\partial m} &=&\\frac1N\\sum_{n=1}^N 2x_n(mx_n + b - y_n)\\\\[5mm]\n",
    "&=&\\frac2N\\sum_{n=1}^N x_n(mx_n + b - y_n)\\\\[5mm]\n",
    "\\end{eqnarray*}\n",
    "\n",
    "Solving for $\\frac{\\partial E}{\\partial m} = 0$\n",
    "\n",
    "\\begin{eqnarray*}\n",
    "0 &=&\\frac2N\\sum_{n=1}^N x_n(mx_n + b - y_n)\\\\[5mm]\n",
    "m &=& \\frac{\\sum_{n=1}^N (y_n - \\bar{y})(x_n - \\bar{x})}{\\sum_{n=1}^N (x_n - \\bar{x})^2}\\\\[5mm]\n",
    "&=& \\frac{\\bar{y} \\bar{x} - \\bar{xy} }{\\bar{x}^2 - \\bar{x^2}}\\\\[5mm]\n",
    "\\end{eqnarray*}"
   ]
  },
  {
   "cell_type": "markdown",
   "metadata": {},
   "source": [
    "Solving for $\\frac{\\partial E}{\\partial b} = 0$\n",
    "\\begin{eqnarray*}\n",
    "\\frac{\\partial E}{\\partial b} &=&\\frac1N\\sum_{n=1}^N 2(mx_n + b - y_n)\\\\[5mm]\n",
    "&=&\\frac2N\\sum_{n=1}^N (mx_n + b - y_n)\\\\[5mm]\n",
    "\\end{eqnarray*}\n",
    "\n",
    "\n",
    "\n",
    "\\begin{eqnarray*}\n",
    "0 &=&\\frac2N\\sum_{n=1}^N (mx_n + b - y_n)\\\\[5mm]\n",
    "b &=& \\frac{\\sum_{n=1}^N y_n}{N} - m\\frac {\\sum_{n=1}^N x_n}{N}\\\\[5mm]\n",
    "&=& \\bar{y} - m\\bar{x}\\\\[5mm]\n",
    "\\end{eqnarray*}\n"
   ]
  },
  {
   "cell_type": "markdown",
   "metadata": {},
   "source": [
    "3.2) Write the equations as a linear system, and solve for $m$ and $b$. How does your answer compare with the answer you obtained above?<br>\n",
    "   **Answer (3 marks):**<br>"
   ]
  },
  {
   "cell_type": "markdown",
   "metadata": {},
   "source": []
  },
  {
   "cell_type": "markdown",
   "metadata": {},
   "source": [
    "\\begin{equation}\n",
    "2m + b = 9\\\\[5mm]\n",
    "4m + b = 17\\\\[5mm]\n",
    "\\end{equation}\n",
    "Thus: \n",
    "\\begin{equation}\n",
    "2m + b - 9 = 0\\\\[5mm]\n",
    "4m + b - 17 = 0\\\\[5mm]\n",
    "\\end{equation}"
   ]
  },
  {
   "cell_type": "code",
   "execution_count": 74,
   "metadata": {},
   "outputs": [
    {
     "data": {
      "text/plain": [
       "(4.0, 1.0)"
      ]
     },
     "execution_count": 74,
     "metadata": {},
     "output_type": "execute_result"
    }
   ],
   "source": [
    "X = np.array([2,4])\n",
    "y = np.array([9,17])\n",
    "m = ((np.mean(X) * np.mean(y) - np.mean(X*y)) / ((np.mean(X)**2) - np.mean(X**2)))\n",
    "b = np.mean(y) - m1 * np.mean(X)\n",
    "\n",
    "m,b"
   ]
  },
  {
   "cell_type": "markdown",
   "metadata": {},
   "source": []
  },
  {
   "cell_type": "markdown",
   "metadata": {},
   "source": [
    "It should be clear that these are the same as the normal equations."
   ]
  },
  {
   "cell_type": "markdown",
   "metadata": {},
   "source": [
    "---"
   ]
  },
  {
   "cell_type": "markdown",
   "metadata": {},
   "source": [
    "We now apply these ideas to a numerical problem. First we need to import a few models"
   ]
  },
  {
   "cell_type": "code",
   "execution_count": 2,
   "metadata": {},
   "outputs": [
    {
     "name": "stderr",
     "output_type": "stream",
     "text": [
      "UsageError: Line magic function `%` not found.\n"
     ]
    }
   ],
   "source": [
    "# This ensures that any graphs we generate will be part of the notebook, instead of\n",
    "# opening in a separate window\n",
    "% matplotlib inline "
   ]
  },
  {
   "cell_type": "code",
   "execution_count": 14,
   "metadata": {},
   "outputs": [],
   "source": [
    "import numpy as np # import the numerical linear algebra module\n",
    "from matplotlib import pyplot as plt"
   ]
  },
  {
   "cell_type": "markdown",
   "metadata": {},
   "source": [
    "## Generate and display data.\n",
    "In the code block below we generate data with a linear relationship and then plot."
   ]
  },
  {
   "cell_type": "code",
   "execution_count": 4,
   "metadata": {},
   "outputs": [
    {
     "data": {
      "image/png": "[encoded data removed]",
      "text/plain": [
       "<Figure size 432x288 with 1 Axes>"
      ]
     },
     "metadata": {
      "needs_background": "light"
     },
     "output_type": "display_data"
    }
   ],
   "source": [
    "x_train = np.linspace(0,1,100)\n",
    "y_train = 0.2*x_train + 1 + 0.01*np.random.randn(x_train.shape[0])\n",
    "\n",
    "plt.plot(x_train, y_train, 'r.')\n",
    "plt.show()"
   ]
  },
  {
   "cell_type": "markdown",
   "metadata": {},
   "source": [
    "### Problem 1: Find $m$ and $b$ using numpy\n",
    "\n",
    "1. Using numpy, create $A$ and $b$ for the system $Ax=b$ (here $x$ is the vector containing the unknown weight $w$ and offset $b$). <br> ** Answer (5 marks) **\n",
    "\n",
    "2. Solve the normal equations for $m$ and $b$. <br> **Answer (5 marks)**\n"
   ]
  },
  {
   "cell_type": "code",
   "execution_count": 77,
   "metadata": {},
   "outputs": [
    {
     "data": {
      "text/plain": [
       "(0.20412315481999194, 0.9970203166032929)"
      ]
     },
     "execution_count": 77,
     "metadata": {},
     "output_type": "execute_result"
    }
   ],
   "source": [
    "X = np.array(x_train)\n",
    "y = np.array(y_train)\n",
    "m = ((np.mean(X) * np.mean(y) - np.mean(X*y)) / ((np.mean(X)**2) - np.mean(X**2)))\n",
    "b = np.mean(y) - m * np.mean(X)\n",
    "m,b"
   ]
  },
  {
   "cell_type": "code",
   "execution_count": null,
   "metadata": {},
   "outputs": [],
   "source": []
  },
  {
   "cell_type": "code",
   "execution_count": 108,
   "metadata": {},
   "outputs": [
    {
     "name": "stdout",
     "output_type": "stream",
     "text": [
      "0.2041231548199951 0.9970203166032925\n"
     ]
    }
   ],
   "source": [
    "# A,b = np.array([[2,1],[4,1]]),np.array([[9],[17]]),\n",
    "# np.linalg.inv(A).dot(b), np.linalg.inv(A)\n",
    "\n",
    "# b = np.asarray([1]) # hint: np.asarray()\n",
    "col2 = np.ones((X.shape)) # hint: np.ones()\n",
    "A = np.vstack((X, col2)).T # hint: np.vstack().T\n",
    "# A = np.vstack((X, col2)) # hint: np.vstack().T\n",
    "\n",
    "# Your code here\n",
    "# Normal equations\n",
    "A_normal = np.linalg.inv(A.T @ A)\n",
    "b_normal = A.T @ y\n",
    "\n",
    "# Solve\n",
    "m, b = A_normal @ b_normal\n",
    "\n",
    "# End of your code\n",
    "\n",
    "# The computed values of m and b should be compared with the values\n",
    "# m = 0.2 and b = 1.0, used to generate the data\n",
    "print(m, b)"
   ]
  },
  {
   "cell_type": "markdown",
   "metadata": {},
   "source": [
    "---"
   ]
  },
  {
   "cell_type": "markdown",
   "metadata": {},
   "source": [
    "### Question 4:\n",
    "1. Why do the numerical values differ from the values used to generate the data?\n",
    "<br> **Answer (3 marks):**"
   ]
  },
  {
   "cell_type": "markdown",
   "metadata": {},
   "source": []
  },
  {
   "cell_type": "markdown",
   "metadata": {},
   "source": [
    "---\n",
    "## Using normal equations is numerically unstable\n",
    "\n",
    "Although it does not matter much for the simple example above, in general it is bad practice to use the normal equations to solve the least squares problem. Surprisingly enough, the culprit is the *covariance* matrix $A^TA$. We cannot compute it in a numerically stable fashion. Technically, its condition number is roughly the square of the condition number of $A$ and in practice this means that we loose roughly half the precision if we calculate the covariance matrix.\n",
    "\n",
    "A full discussion is beyond the scope of the course, but the interested reader is encouraged to consult, Lloyd N. Trefethen and David Bau, III. NUMERICAL LINEAR ALGEBRA, SIAM 1997.\n",
    "\n",
    "A numerical stable way of solving the linear least squares problem is to first do a $QR$ factorization of $A$. If $A$ is an $m\\times n$ dimensional array with $m>n$ (more equations than unknowns), then the $QR$ factorization is given by\n",
    "$$\n",
    "A = QR,\n",
    "$$\n",
    "where $Q$ is an $m\\times n$ matrix with orthogonal columns, i.e. $Q^TQ=I$, and $R$ is an $n\\times n$ upper triangular matrix. Assuming that $A$ has full rank, i.e. its columns are linearly independent, then it can be shown that $R$ is non-singular. One has to take some care, but there are a number of numerically stable algorithms to compute the $QR$ factorisation. \n",
    "\n",
    "Let's now substitute the $A=QR$ in the normal equations,\n",
    "$$\n",
    "(QR)^T QR x = (QR)^T b.\n",
    "$$\n",
    "Taking the orthogonality of $Q$ and the non-singularity of $R$ into account, this equation boils down to\n",
    "$$\n",
    "Rx = Q^Tb.\n",
    "$$\n",
    "Since $R$ is non-singular and upper traingular, this system is easily and efficiently solved.\n",
    "\n",
    "What has happened here? After we calculated the $QR$ algorithm in a stable manner, we did many of the calculations analytically (using $Q^TQ=I$ and cancelling $R^T$ from both sides), and that is done with infinite precision!"
   ]
  },
  {
   "cell_type": "markdown",
   "metadata": {},
   "source": [
    "---\n",
    "### Problem 2:\n",
    "1. Solve the linear least squares problem using the $QR$ factorization. With numpy. <br> ** Ansewr (5 marks):**"
   ]
  },
  {
   "cell_type": "code",
   "execution_count": null,
   "metadata": {},
   "outputs": [],
   "source": [
    "# Your code here\n",
    "Q, R =\n",
    "# End of your code\n",
    "\n",
    "print(Q.shape, '\\n')\n",
    "print('R = ', R, '\\n')\n",
    "print('Q^TQ = ', np.dot(Q.T,Q))\n",
    "print(m, b)"
   ]
  },
  {
   "cell_type": "code",
   "execution_count": null,
   "metadata": {},
   "outputs": [],
   "source": [
    "# Your code here\n",
    "m, b = \n",
    "# End of your code\n",
    "\n",
    "print(m,b)"
   ]
  },
  {
   "cell_type": "markdown",
   "metadata": {},
   "source": [
    "# Solve using scikit-learn\n",
    "\n",
    "First we need to import the necessary module from scikit-learn"
   ]
  },
  {
   "cell_type": "code",
   "execution_count": 7,
   "metadata": {},
   "outputs": [],
   "source": [
    "# Import modules from sklearn\n",
    "from sklearn.linear_model import  LinearRegression"
   ]
  },
  {
   "cell_type": "markdown",
   "metadata": {},
   "source": [
    "## Problem 3:\n",
    "\n",
    "1. Solve the linear least squares problem using sklearn. <br> ** Answer (5 marks):**"
   ]
  },
  {
   "cell_type": "code",
   "execution_count": 2,
   "metadata": {},
   "outputs": [],
   "source": [
    "# Fit the data to the model\n",
    "\n",
    "# Print the weight and offset. The values are the same as from the normal equations.\n"
   ]
  },
  {
   "cell_type": "markdown",
   "metadata": {},
   "source": [
    "# Using Keras\n",
    "\n",
    "First import the necessary modules from keras"
   ]
  },
  {
   "cell_type": "code",
   "execution_count": 8,
   "metadata": {},
   "outputs": [],
   "source": [
    "from keras.models import Sequential\n",
    "from keras.layers import Dense\n",
    "from keras.optimizers import Adam"
   ]
  },
  {
   "cell_type": "markdown",
   "metadata": {},
   "source": [
    "## Problem 4:\n",
    "\n",
    "1. Solve the linear least squares problem using keras. <br> ** Answer (5 marks):**\n",
    "2. Use the Adam optimiser and experiment with different learning rates. <br> ** Answer (5 marks):**\n",
    "\n",
    "**Note:** You should find everything you need on the internet\n",
    "* https://keras.io/getting-started/sequential-model-guide/\n",
    "* https://keras.io/optimizers/\n",
    "* https://keras.io/models/sequential/"
   ]
  },
  {
   "cell_type": "code",
   "execution_count": 9,
   "metadata": {},
   "outputs": [],
   "source": [
    "model = Sequential()\n",
    "model.add(Dense(1, input_dim=1, kernel_initializer='normal', activation=))\n",
    "\n",
    "# Compile model\n",
    "model.compile(loss=, optimizer=, metrics=['mse'])\n",
    "\n",
    "# Fit model: use a batch_size=20, epochs=300\n",
    "model.fit(x=, y=, batch_size=, epochs=, verbose=1)"
   ]
  },
  {
   "cell_type": "code",
   "execution_count": 3,
   "metadata": {},
   "outputs": [],
   "source": [
    "# Print model weights, might not be exactly the same as above.\n"
   ]
  }
 ],
 "metadata": {
  "kernelspec": {
   "display_name": "Python 3",
   "language": "python",
   "name": "python3"
  },
  "language_info": {
   "codemirror_mode": {
    "name": "ipython",
    "version": 3
   },
   "file_extension": ".py",
   "mimetype": "text/x-python",
   "name": "python",
   "nbconvert_exporter": "python",
   "pygments_lexer": "ipython3",
   "version": "3.8.1"
  }
 },
 "nbformat": 4,
 "nbformat_minor": 2
}
