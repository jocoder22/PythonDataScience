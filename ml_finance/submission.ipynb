{
 "cells": [
  {
   "cell_type": "code",
   "execution_count": 21,
   "metadata": {},
   "outputs": [],
   "source": [
    "import yfinance as yf\n",
    "import talib\n",
    "import pandas as pd\n",
    "from talib.abstract import *\n",
    "import datetime as dt\n",
    "from dateutil.parser import parse\n",
    "from datetime import datetime, timezone\n",
    "import os\n",
    "import glob\n",
    "from sklearn import datasets, linear_model\n",
    "from datetime import datetime, timedelta\n",
    "import smtplib\n",
    "from email.mime.multipart import MIMEMultipart\n",
    "from email.mime.text import MIMEText\n",
    "import time\n",
    "\n",
    "\n",
    "import pandas_datareader.data as dr\n",
    "import matplotlib\n",
    "import matplotlib.pyplot as plt"
   ]
  },
  {
   "cell_type": "code",
   "execution_count": 18,
   "metadata": {},
   "outputs": [],
   "source": [
    "def reformat_multi_index_df(df):\n",
    "    df_new = df.rename(columns = {'Close':'close', 'Open': 'open', 'High': 'high', 'Low': 'low', 'Volume':'volume'}, level=1 ) \n",
    "    df_new.fillna(method='ffill', inplace=True)\n",
    "    df_new.fillna(method='bfill', inplace=True)\n",
    "\n",
    "    #df_new.index=df.index.tz_localize(None)\n",
    "\n",
    "    df_new.index = df_new.index.map(lambda t: t if isinstance(t, str) else t.strftime('%Y-%m-%d %H:%M'))\n",
    "    df_new=df_new.groupby(df_new.index).first()\n",
    "    #df_new.drop_duplicates(subset='index', inplace=True)\n",
    "    return df_new"
   ]
  },
  {
   "cell_type": "code",
   "execution_count": 19,
   "metadata": {},
   "outputs": [
    {
     "name": "stdout",
     "output_type": "stream",
     "text": [
      "[*********************100%***********************]  2 of 2 completed\n"
     ]
    }
   ],
   "source": [
    "## IN SAMPLE\n",
    "pepsi_coke_df = yf.download('PEP KO', auto_adjust=True, period='1d', start= \"2020-01-01\", end = \"2020-05-30\", group_by = 'ticker')\n",
    "pepsi_coke_df = reformat_multi_index_df(pepsi_coke_df)"
   ]
  },
  {
   "cell_type": "code",
   "execution_count": 13,
   "metadata": {},
   "outputs": [],
   "source": [
    "pepsi_df = pepsi_coke_df[\"PEP\"]\n",
    "coke_df = pepsi_coke_df[\"KO\"]"
   ]
  },
  {
   "cell_type": "code",
   "execution_count": 14,
   "metadata": {},
   "outputs": [
    {
     "data": {
      "text/html": [
       "<div>\n",
       "<style scoped>\n",
       "    .dataframe tbody tr th:only-of-type {\n",
       "        vertical-align: middle;\n",
       "    }\n",
       "\n",
       "    .dataframe tbody tr th {\n",
       "        vertical-align: top;\n",
       "    }\n",
       "\n",
       "    .dataframe thead th {\n",
       "        text-align: right;\n",
       "    }\n",
       "</style>\n",
       "<table border=\"1\" class=\"dataframe\">\n",
       "  <thead>\n",
       "    <tr style=\"text-align: right;\">\n",
       "      <th></th>\n",
       "      <th>open</th>\n",
       "      <th>high</th>\n",
       "      <th>low</th>\n",
       "      <th>close</th>\n",
       "      <th>volume</th>\n",
       "    </tr>\n",
       "    <tr>\n",
       "      <th>Date</th>\n",
       "      <th></th>\n",
       "      <th></th>\n",
       "      <th></th>\n",
       "      <th></th>\n",
       "      <th></th>\n",
       "    </tr>\n",
       "  </thead>\n",
       "  <tbody>\n",
       "    <tr>\n",
       "      <th>2020-01-02 00:00</th>\n",
       "      <td>133.941754</td>\n",
       "      <td>134.294053</td>\n",
       "      <td>132.248771</td>\n",
       "      <td>132.914230</td>\n",
       "      <td>3784100</td>\n",
       "    </tr>\n",
       "    <tr>\n",
       "      <th>2020-01-03 00:00</th>\n",
       "      <td>132.561941</td>\n",
       "      <td>133.863473</td>\n",
       "      <td>132.238999</td>\n",
       "      <td>132.728302</td>\n",
       "      <td>4000100</td>\n",
       "    </tr>\n",
       "    <tr>\n",
       "      <th>2020-01-06 00:00</th>\n",
       "      <td>132.405346</td>\n",
       "      <td>133.403528</td>\n",
       "      <td>132.307480</td>\n",
       "      <td>133.237152</td>\n",
       "      <td>4085100</td>\n",
       "    </tr>\n",
       "    <tr>\n",
       "      <th>2020-01-07 00:00</th>\n",
       "      <td>133.090375</td>\n",
       "      <td>133.158885</td>\n",
       "      <td>131.084230</td>\n",
       "      <td>131.142944</td>\n",
       "      <td>5718100</td>\n",
       "    </tr>\n",
       "    <tr>\n",
       "      <th>2020-01-08 00:00</th>\n",
       "      <td>131.583336</td>\n",
       "      <td>132.464075</td>\n",
       "      <td>131.201680</td>\n",
       "      <td>131.818192</td>\n",
       "      <td>3681400</td>\n",
       "    </tr>\n",
       "  </tbody>\n",
       "</table>\n",
       "</div>"
      ],
      "text/plain": [
       "                        open        high         low       close   volume\n",
       "Date                                                                     \n",
       "2020-01-02 00:00  133.941754  134.294053  132.248771  132.914230  3784100\n",
       "2020-01-03 00:00  132.561941  133.863473  132.238999  132.728302  4000100\n",
       "2020-01-06 00:00  132.405346  133.403528  132.307480  133.237152  4085100\n",
       "2020-01-07 00:00  133.090375  133.158885  131.084230  131.142944  5718100\n",
       "2020-01-08 00:00  131.583336  132.464075  131.201680  131.818192  3681400"
      ]
     },
     "execution_count": 14,
     "metadata": {},
     "output_type": "execute_result"
    }
   ],
   "source": [
    "pepsi_df.head()"
   ]
  },
  {
   "cell_type": "code",
   "execution_count": 23,
   "metadata": {},
   "outputs": [
    {
     "data": {
      "text/html": [
       "<div>\n",
       "<style scoped>\n",
       "    .dataframe tbody tr th:only-of-type {\n",
       "        vertical-align: middle;\n",
       "    }\n",
       "\n",
       "    .dataframe tbody tr th {\n",
       "        vertical-align: top;\n",
       "    }\n",
       "\n",
       "    .dataframe thead th {\n",
       "        text-align: right;\n",
       "    }\n",
       "</style>\n",
       "<table border=\"1\" class=\"dataframe\">\n",
       "  <thead>\n",
       "    <tr style=\"text-align: right;\">\n",
       "      <th>Symbols</th>\n",
       "      <th>PEP</th>\n",
       "      <th>KO</th>\n",
       "    </tr>\n",
       "    <tr>\n",
       "      <th>Date</th>\n",
       "      <th></th>\n",
       "      <th></th>\n",
       "    </tr>\n",
       "  </thead>\n",
       "  <tbody>\n",
       "    <tr>\n",
       "      <th>2013-01-02</th>\n",
       "      <td>55.359879</td>\n",
       "      <td>29.618193</td>\n",
       "    </tr>\n",
       "    <tr>\n",
       "      <th>2013-01-03</th>\n",
       "      <td>55.383846</td>\n",
       "      <td>29.618193</td>\n",
       "    </tr>\n",
       "    <tr>\n",
       "      <th>2013-01-04</th>\n",
       "      <td>55.463696</td>\n",
       "      <td>29.665461</td>\n",
       "    </tr>\n",
       "    <tr>\n",
       "      <th>2013-01-07</th>\n",
       "      <td>55.455719</td>\n",
       "      <td>29.381893</td>\n",
       "    </tr>\n",
       "    <tr>\n",
       "      <th>2013-01-08</th>\n",
       "      <td>55.623398</td>\n",
       "      <td>29.177088</td>\n",
       "    </tr>\n",
       "  </tbody>\n",
       "</table>\n",
       "</div>"
      ],
      "text/plain": [
       "Symbols           PEP         KO\n",
       "Date                            \n",
       "2013-01-02  55.359879  29.618193\n",
       "2013-01-03  55.383846  29.618193\n",
       "2013-01-04  55.463696  29.665461\n",
       "2013-01-07  55.455719  29.381893\n",
       "2013-01-08  55.623398  29.177088"
      ]
     },
     "execution_count": 23,
     "metadata": {},
     "output_type": "execute_result"
    }
   ],
   "source": [
    "start_date = '2013-01-01'\n",
    "end_date = '2020-02-29'\n",
    "\n",
    "assets = [\"PEP\", \"KO\"]\n",
    "datasets = dr.DataReader(assets, data_source='yahoo', start = start_date, end = end_date)['Adj Close']\n",
    "datasets.head()"
   ]
  },
  {
   "cell_type": "code",
   "execution_count": null,
   "metadata": {},
   "outputs": [],
   "source": []
  },
  {
   "cell_type": "code",
   "execution_count": null,
   "metadata": {},
   "outputs": [],
   "source": []
  },
  {
   "cell_type": "code",
   "execution_count": null,
   "metadata": {},
   "outputs": [],
   "source": []
  },
  {
   "cell_type": "code",
   "execution_count": 15,
   "metadata": {},
   "outputs": [],
   "source": [
    "## take advantage of technical analysis\n",
    "## boillinger bands gives the upper and lower std\n",
    "bbands= BBANDS(pepsi_df)\n",
    "ema = EMA(pepsi_df)"
   ]
  },
  {
   "cell_type": "code",
   "execution_count": 16,
   "metadata": {},
   "outputs": [
    {
     "name": "stdout",
     "output_type": "stream",
     "text": [
      "                   upperband  middleband   lowerband\n",
      "Date                                                \n",
      "2020-01-02 00:00         NaN         NaN         NaN\n",
      "2020-01-03 00:00         NaN         NaN         NaN\n",
      "2020-01-06 00:00         NaN         NaN         NaN\n",
      "2020-01-07 00:00         NaN         NaN         NaN\n",
      "2020-01-08 00:00  133.913909  132.368164  130.822419\n",
      "...                      ...         ...         ...\n",
      "2020-05-22 00:00  133.670208  129.890533  126.110859\n",
      "2020-05-26 00:00  130.164753  128.753596  127.342440\n",
      "2020-05-27 00:00  129.585004  128.572322  127.559640\n",
      "2020-05-28 00:00  130.477356  128.775276  127.073196\n",
      "2020-05-29 00:00  130.764475  129.039317  127.314160\n",
      "\n",
      "[103 rows x 3 columns]\n"
     ]
    }
   ],
   "source": [
    "print(bbands)"
   ]
  },
  {
   "cell_type": "code",
   "execution_count": 40,
   "metadata": {},
   "outputs": [
    {
     "name": "stdout",
     "output_type": "stream",
     "text": [
      "Date\n",
      "2020-01-02 00:00           NaN\n",
      "2020-01-03 00:00           NaN\n",
      "2020-01-06 00:00           NaN\n",
      "2020-01-07 00:00           NaN\n",
      "2020-01-08 00:00           NaN\n",
      "                       ...    \n",
      "2020-05-22 00:00    129.967650\n",
      "2020-05-26 00:00    129.829830\n",
      "2020-05-27 00:00    129.768278\n",
      "2020-05-28 00:00    129.804769\n",
      "2020-05-29 00:00    129.791870\n",
      "Length: 103, dtype: float64\n"
     ]
    }
   ],
   "source": [
    "print(ema)"
   ]
  },
  {
   "cell_type": "code",
   "execution_count": 42,
   "metadata": {},
   "outputs": [],
   "source": [
    "## can take advantage of pairs trading by trading spread\n",
    "pepsi_mean = pepsi_df[\"close\"].mean()\n",
    "coke_mean = coke_df[\"close\"].mean()\n",
    "\n",
    "#pepsi_coke_spread = pepsi_mean/coke_mean"
   ]
  },
  {
   "cell_type": "code",
   "execution_count": 43,
   "metadata": {},
   "outputs": [
    {
     "name": "stdout",
     "output_type": "stream",
     "text": [
      "2.627845332778981\n"
     ]
    }
   ],
   "source": [
    "\n",
    "# when pepsi is undervalued compared to spread, sell or else buy\n",
    "print(pepsi_coke_spread)"
   ]
  },
  {
   "cell_type": "code",
   "execution_count": null,
   "metadata": {},
   "outputs": [],
   "source": []
  }
 ],
 "metadata": {
  "kernelspec": {
   "display_name": "Python 3",
   "language": "python",
   "name": "python3"
  },
  "language_info": {
   "codemirror_mode": {
    "name": "ipython",
    "version": 3
   },
   "file_extension": ".py",
   "mimetype": "text/x-python",
   "name": "python",
   "nbconvert_exporter": "python",
   "pygments_lexer": "ipython3",
   "version": "3.8.1"
  }
 },
 "nbformat": 4,
 "nbformat_minor": 4
}
